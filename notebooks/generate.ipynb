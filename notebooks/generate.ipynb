{
 "cells": [
  {
   "cell_type": "code",
   "execution_count": null,
   "metadata": {},
   "outputs": [],
   "source": [
    "%load_ext autoreload\n",
    "%autoreload 2\n",
    "from autora.doc.runtime.predict_hf import Predictor\n",
    "from autora.doc.runtime.prompts import PROMPTS, PromptIds"
   ]
  },
  {
   "cell_type": "code",
   "execution_count": null,
   "metadata": {},
   "outputs": [],
   "source": [
    "# model = \"../../models\" # if model has been previously downloaded via huggingface-cli\n",
    "model = \"meta-llama/Llama-2-7b-chat-hf\"\n",
    "pred = Predictor(model)"
   ]
  },
  {
   "cell_type": "code",
   "execution_count": null,
   "metadata": {},
   "outputs": [],
   "source": [
    "TEST_VAR_CODE = \"\"\"\n",
    "iv = Variable(name=\"x\", value_range=(0, 2 * np.pi), allowed_values=np.linspace(0, 2 * np.pi, 30))\n",
    "dv = Variable(name=\"y\", type=ValueType.REAL)\n",
    "variables = VariableCollection(independent_variables=[iv], dependent_variables=[dv])\n",
    "\"\"\""
   ]
  },
  {
   "cell_type": "code",
   "execution_count": null,
   "metadata": {},
   "outputs": [],
   "source": [
    "def test(promptid, code):\n",
    "    output = pred.predict(\n",
    "        PROMPTS[promptid],\n",
    "        [code],\n",
    "        do_sample=0,\n",
    "        max_length=800,\n",
    "        temperature=0.05,\n",
    "        top_k=10,\n",
    "        num_ret_seq=1,\n",
    "    )[0]\n",
    "    for i, o in enumerate(output):\n",
    "        print(f\"{promptid}\\n******* Output {i} ********\\n{o}\\n*************\\n\")"
   ]
  },
  {
   "cell_type": "code",
   "execution_count": null,
   "metadata": {},
   "outputs": [],
   "source": [
    "test(PromptIds.AUTORA_VARS_ZEROSHOT, TEST_VAR_CODE)"
   ]
  },
  {
   "cell_type": "code",
   "execution_count": null,
   "metadata": {},
   "outputs": [],
   "source": [
    "test(PromptIds.AUTORA_VARS_ONESHOT, TEST_VAR_CODE)"
   ]
  }
 ],
 "metadata": {
  "kernelspec": {
   "display_name": "autodoc",
   "language": "python",
   "name": "python3"
  },
  "language_info": {
   "codemirror_mode": {
    "name": "ipython",
    "version": 3
   },
   "file_extension": ".py",
   "mimetype": "text/x-python",
   "name": "python",
   "nbconvert_exporter": "python",
   "pygments_lexer": "ipython3",
   "version": "3.11.5"
  }
 },
 "nbformat": 4,
 "nbformat_minor": 2
}
