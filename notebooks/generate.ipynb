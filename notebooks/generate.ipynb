{
 "cells": [
  {
   "cell_type": "code",
   "execution_count": null,
   "metadata": {
    "id": "3q1p1MKYxZei"
   },
   "outputs": [],
   "source": [
    "# Uncoment the following to work around an ocassisional bug in Colab:\n",
    "# \"A UTF-8 locale is required. Got ANSI_X3.4-1968\"\n",
    "# import locale\n",
    "# locale.getpreferredencoding = lambda: \"UTF-8\""
   ]
  },
  {
   "cell_type": "code",
   "execution_count": null,
   "metadata": {
    "id": "YE9-CnCLUueM"
   },
   "outputs": [],
   "source": [
    "# Uncomment to clone and install autodoc from GitHub\n",
    "# !pip uninstall -y autora-doc\n",
    "# !git clone https://github.com/AutoResearch/autodoc.git\n",
    "# !pip install \"./autodoc[cuda,pipelines]\"\n",
    "\n",
    "# IMPORTANT: Please restart the runtime after running the above commands"
   ]
  },
  {
   "cell_type": "code",
   "execution_count": null,
   "metadata": {
    "id": "jeu8zXoFUtXM"
   },
   "outputs": [],
   "source": [
    "%load_ext autoreload\n",
    "%autoreload 2\n",
    "from autora.doc.runtime.predict_hf import Predictor, preprocess_code\n",
    "from autora.doc.runtime.prompts import PROMPTS, PromptIds, PromptBuilder, SYS_GUIDES\n",
    "from autora.doc.pipelines.metrics import eval_bleu_meteor, eval_semscore\n",
    "from autora.doc.pipelines.main import eval_prompt, load_data"
   ]
  },
  {
   "cell_type": "code",
   "execution_count": null,
   "metadata": {
    "id": "yOJoE_pnUtXN"
   },
   "outputs": [],
   "source": [
    "model = \"meta-llama/Llama-2-7b-chat-hf\""
   ]
  },
  {
   "cell_type": "code",
   "execution_count": null,
   "metadata": {
    "id": "l6zK76t5UtXN"
   },
   "outputs": [],
   "source": [
    "pred = Predictor(model)"
   ]
  },
  {
   "cell_type": "markdown",
   "metadata": {
    "id": "uAKbxADnUtXN"
   },
   "source": [
    "## Test generation for the variable declararion only"
   ]
  },
  {
   "cell_type": "code",
   "execution_count": null,
   "metadata": {
    "id": "EfOMJxaFUtXN"
   },
   "outputs": [],
   "source": [
    "TEST_VAR_CODE = \"\"\"\n",
    "iv = Variable(name=\"x\", value_range=(0, 2 * np.pi), allowed_values=np.linspace(0, 2 * np.pi, 30))\n",
    "dv = Variable(name=\"y\", type=ValueType.REAL)\n",
    "variables = VariableCollection(independent_variables=[iv], dependent_variables=[dv])\n",
    "\"\"\"\n",
    "LABEL = \"The discovery problem is defined by a single independent variable $x \\in [0, 2 \\pi]$ and dependent variable $y$.\""
   ]
  },
  {
   "cell_type": "code",
   "execution_count": null,
   "metadata": {
    "id": "pc7LAzGoUtXN"
   },
   "outputs": [],
   "source": [
    "def test(promptid, code, label):\n",
    "    output = pred.predict(\n",
    "        PROMPTS[promptid],\n",
    "        [code],\n",
    "        do_sample=0,\n",
    "        max_new_tokens=100,\n",
    "        temperature=0.05,\n",
    "        top_k=10,\n",
    "        num_ret_seq=1,\n",
    "    )\n",
    "    bleu, meteor = eval_bleu_meteor(output, [label])\n",
    "    sem_score = eval_semscore(output, [label])\n",
    "\n",
    "    for i, o in enumerate(output):\n",
    "        print(\n",
    "            f\"{promptid}\\n******* Output {i} ********. bleu={bleu}, meteor={meteor}, sem_score={sem_score}\\n{o}\\n*************\\n\"\n",
    "        )"
   ]
  },
  {
   "cell_type": "code",
   "execution_count": null,
   "metadata": {
    "id": "BJgptog3UtXO"
   },
   "outputs": [],
   "source": [
    "# Zero shot test\n",
    "test(PromptIds.AUTORA_VARS_ZEROSHOT, TEST_VAR_CODE, LABEL)"
   ]
  },
  {
   "cell_type": "code",
   "execution_count": null,
   "metadata": {
    "id": "8T5dVHUMUtXO"
   },
   "outputs": [],
   "source": [
    "# One shot test\n",
    "test(PromptIds.AUTORA_VARS_ONESHOT, TEST_VAR_CODE, LABEL)"
   ]
  },
  {
   "cell_type": "markdown",
   "metadata": {
    "id": "fIeXbZXxUtXO"
   },
   "source": [
    "## One-shot generation for the complete code sample"
   ]
  },
  {
   "cell_type": "code",
   "execution_count": null,
   "metadata": {
    "id": "K0241jrdUtXO"
   },
   "outputs": [],
   "source": [
    "data_file = \"../data/autora/data.jsonl\"\n",
    "# Use this path if running in Colab and cloning the repo\n",
    "# data_file = \"./autodoc/data/autora/data.jsonl\"\n",
    "inputs, labels = load_data(data_file)\n",
    "# preprocessing removes comments, import statements and empty lines\n",
    "inputs = [preprocess_code(i) for i in inputs]\n",
    "INSTR = \"Generate high-level, one or two paragraph documentation for the following experiment.\"\n",
    "prompt = PromptBuilder(SYS_GUIDES, INSTR).add_example(f\"{inputs[0]}\", labels[0]).build()\n",
    "print(prompt)"
   ]
  },
  {
   "cell_type": "code",
   "execution_count": null,
   "metadata": {
    "id": "ws7LUe7mUtXO"
   },
   "outputs": [],
   "source": [
    "eval_result = eval_prompt(data_file, pred, prompt, {\"max_new_tokens\": 800.0})\n",
    "print(\n",
    "    f\"bleu={eval_result.bleu_score}, meteor={eval_result.meteor_score}, sem_score={eval_result.sem_score}\\n{eval_result.predictions[0]}\\n*************\\n\"\n",
    ")"
   ]
  },
  {
   "cell_type": "code",
   "execution_count": null,
   "metadata": {
    "id": "5L2RZveeUtXO"
   },
   "outputs": [],
   "source": []
  }
 ],
 "metadata": {
  "accelerator": "GPU",
  "colab": {
   "gpuType": "T4",
   "provenance": []
  },
  "kernelspec": {
   "display_name": "Python 3",
   "name": "python3"
  },
  "language_info": {
   "codemirror_mode": {
    "name": "ipython",
    "version": 3
   },
   "file_extension": ".py",
   "mimetype": "text/x-python",
   "name": "python",
   "nbconvert_exporter": "python",
   "pygments_lexer": "ipython3",
   "version": "3.11.5"
  }
 },
 "nbformat": 4,
 "nbformat_minor": 0
}
