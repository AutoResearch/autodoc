{
 "cells": [
  {
   "cell_type": "code",
   "execution_count": null,
   "metadata": {},
   "outputs": [],
   "source": [
    "%load_ext autoreload\n",
    "%autoreload 2\n",
    "from autora.doc.runtime.predict_hf import Predictor\n",
    "from autora.doc.runtime.prompts import INSTR, SYS, InstructionPrompts, SystemPrompts"
   ]
  },
  {
   "cell_type": "code",
   "execution_count": null,
   "metadata": {},
   "outputs": [],
   "source": [
    "# model = \"../../models\" # if model has been previously downloaded via huggingface-cli\n",
    "model = \"meta-llama/Llama-2-7b-chat-hf\"\n",
    "pred = Predictor(model)"
   ]
  },
  {
   "cell_type": "code",
   "execution_count": null,
   "metadata": {},
   "outputs": [],
   "source": [
    "AUTORA_VARS = (\n",
    "    \"Generate a brief description of the dependent and independent variables used in the experiment based on the following code. \"\n",
    "    \"Use only one line per variable and do not include code or code-like syntax in your description. Use LaTeX to format mathematical expressions. \"\n",
    ")\n",
    "\n",
    "VAR_CODE = \"\"\"\n",
    "iv = Variable(name=\"x\", value_range=(0, 2 * np.pi), allowed_values=np.linspace(0, 2 * np.pi, 30))\n",
    "dv = Variable(name=\"y\", type=ValueType.REAL)\n",
    "variables = VariableCollection(independent_variables=[iv], dependent_variables=[dv])\n",
    "\"\"\""
   ]
  },
  {
   "cell_type": "code",
   "execution_count": null,
   "metadata": {},
   "outputs": [],
   "source": [
    "output = pred.predict(\n",
    "    SYS[SystemPrompts.SYS_1],\n",
    "    # INSTR[InstructionPrompts.INSTR_SWEETP_EXAMPLE],\n",
    "    AUTORA_VARS,\n",
    "    # [TEST_CODE],\n",
    "    [VAR_CODE],\n",
    "    do_sample=0,\n",
    "    max_length=500,\n",
    "    temperature=0.05,\n",
    "    top_k=10,\n",
    "    num_ret_seq=1,\n",
    ")[0]\n",
    "for i, o in enumerate(output):\n",
    "    print(f\"******** Output {i} ********\\n{o}*************\\n\")"
   ]
  },
  {
   "cell_type": "code",
   "execution_count": null,
   "metadata": {},
   "outputs": [],
   "source": [
    "AUTORA_VARS"
   ]
  },
  {
   "cell_type": "code",
   "execution_count": null,
   "metadata": {},
   "outputs": [],
   "source": []
  }
 ],
 "metadata": {
  "kernelspec": {
   "display_name": "autodoc",
   "language": "python",
   "name": "python3"
  },
  "language_info": {
   "codemirror_mode": {
    "name": "ipython",
    "version": 3
   },
   "file_extension": ".py",
   "mimetype": "text/x-python",
   "name": "python",
   "nbconvert_exporter": "python",
   "pygments_lexer": "ipython3",
   "version": "3.11.5"
  }
 },
 "nbformat": 4,
 "nbformat_minor": 2
}
